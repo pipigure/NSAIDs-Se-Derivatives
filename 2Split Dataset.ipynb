{
 "cells": [
  {
   "cell_type": "code",
   "execution_count": null,
   "id": "571fdbbc-0679-4be9-9c91-dbfce18d32f5",
   "metadata": {},
   "outputs": [],
   "source": [
    "import pandas as pd\n",
    "from sklearn.preprocessing import StandardScaler\n",
    "from sklearn.model_selection import train_test_split\n",
    "from statsmodels.stats.outliers_influence import variance_inflation_factor\n",
    "import numpy as np\n",
    "\n",
    "# Read the CSV file\n",
    "file_path = '/Users/pipi/Documents/研究工作资料/数据/54-20des.csv'  # Replace with your CSV file path\n",
    "df = pd.read_csv(file_path, index_col=0)  # Assuming the first column of the CSV file is the index\n",
    "\n",
    "df\n"
   ]
  },
  {
   "cell_type": "markdown",
   "id": "d3401a9b-b85b-4715-b176-93b2858f15ef",
   "metadata": {},
   "source": [
    " Select the specified descriptors"
   ]
  },
  {
   "cell_type": "code",
   "execution_count": null,
   "id": "9a59ce69-da2b-478b-a1d0-41a75f340682",
   "metadata": {},
   "outputs": [],
   "source": [
    "import matplotlib.pyplot as plt\n",
    "selected_descriptors = ['Dipole y ', 'HOMO eigenvalue ', 'E-state keys (sums): S_dssC ', \n",
    "                        'E-state keys (sums): S_sCH3 ', 'Heat of formation ']\n",
    "df_selected = df[selected_descriptors]"
   ]
  },
  {
   "cell_type": "code",
   "execution_count": null,
   "id": "d5701b4b-b2d9-4140-8143-42f38bfc4cf9",
   "metadata": {},
   "outputs": [],
   "source": [
    "# Standardize the selected data\n",
    "scaler = StandardScaler()\n",
    "df_selected_standardized = pd.DataFrame(scaler.fit_transform(df_selected), columns=df_selected.columns)\n",
    "\n"
   ]
  },
  {
   "cell_type": "markdown",
   "id": "c71fbc8b-d429-4e76-821f-b91e2f3de92d",
   "metadata": {},
   "source": [
    " Calculate the correlation matrix for the selected descriptors"
   ]
  },
  {
   "cell_type": "code",
   "execution_count": null,
   "id": "a954fb8c-cf4d-47c4-98b5-91d6d4a2a16d",
   "metadata": {},
   "outputs": [],
   "source": [
    "import seaborn as sns\n",
    "import matplotlib.pyplot as plt\n",
    "from sklearn.preprocessing import StandardScaler\n",
    "corr_matrix_selected = df_selected_standardized.corr()\n",
    "\n",
    "# Create an upper triangular mask\n",
    "mask = ~np.tri(corr_matrix_selected.shape[0], k=-1, dtype=bool)\n",
    "\n",
    "# Set diagonal values to 1\n",
    "np.fill_diagonal(corr_matrix_selected.values, 1)\n",
    "\n",
    "# Display the correlation matrix\n",
    "plt.figure(figsize=(10, 8))\n",
    "heatmap_selected = sns.heatmap(corr_matrix_selected, annot=True, cmap='coolwarm', fmt=\".2f\", \n",
    "                               linewidths=.5, mask=mask, vmin=-1, vmax=1,\n",
    "                               cbar_kws={\"ticks\": [-1, -0.5, 0, 0.5, 1]})\n",
    "plt.title('Correlation Matrix of Selected Descriptors')\n",
    "plt.show()\n",
    "\n"
   ]
  },
  {
   "cell_type": "markdown",
   "id": "d7ce8296-21f8-4bb3-b8aa-0eb718c3d637",
   "metadata": {},
   "source": [
    "Calculate VIF for the selected descriptors"
   ]
  },
  {
   "cell_type": "code",
   "execution_count": null,
   "id": "626e7f95-fe9c-4537-9f62-3a884d507727",
   "metadata": {},
   "outputs": [],
   "source": [
    "\n",
    "vif_values_selected = pd.DataFrame()\n",
    "vif_values_selected[\"Feature\"] = df_selected.columns\n",
    "vif_values_selected[\"VIF\"] = [variance_inflation_factor(df_selected_standardized.values, i) \n",
    "                              for i in range(df_selected_standardized.shape[1])]\n",
    "\n",
    "# Output VIF results\n",
    "print(\"VIF values for selected descriptors:\")\n",
    "print(vif_values_selected)"
   ]
  },
  {
   "cell_type": "markdown",
   "id": "695b7f6e-3ecb-4676-a0c9-f6966b14545f",
   "metadata": {},
   "source": [
    "Implement Kennard-Stone algorithm to split the data into training and testing sets"
   ]
  },
  {
   "cell_type": "code",
   "execution_count": null,
   "id": "39aabbcc-db70-46b8-8cca-bbfe97a7bc1f",
   "metadata": {},
   "outputs": [],
   "source": [
    "\n",
    "import numpy as np\n",
    "from sklearn.cluster import KMeans\n",
    "\n",
    "def kennard_stone_split(X, ratio=0.8):\n",
    "    kmeans = KMeans(n_clusters=int(X.shape[0]*ratio), random_state=42).fit(X)\n",
    "    clusters = kmeans.labels_\n",
    "    train_indices = np.where(clusters == np.argmax(np.bincount(clusters)))[0]\n",
    "    test_indices = np.setdiff1d(range(X.shape[0]), train_indices)\n",
    "    return train_indices, test_indices\n",
    "\n",
    "# Apply Kennard-Stone split\n",
    "train_indices, test_indices = kennard_stone_split(df_selected_standardized.values, ratio=0.8)\n",
    "\n",
    "# Split the data\n",
    "X_train, X_test = df_selected_standardized.iloc[train_indices],df_selected_standardized.iloc[test_indices]\n",
    "X_test"
   ]
  },
  {
   "cell_type": "code",
   "execution_count": null,
   "id": "dfbb6947-9c1b-4cf5-a051-a0ab4808d1a0",
   "metadata": {},
   "outputs": [],
   "source": []
  },
  {
   "cell_type": "code",
   "execution_count": null,
   "id": "6036e75e-cb52-4b69-be53-54ff93b00214",
   "metadata": {},
   "outputs": [],
   "source": []
  },
  {
   "cell_type": "markdown",
   "id": "2a24b7d6-3ac9-4339-a3c6-a0b3ebbb110a",
   "metadata": {},
   "source": [
    "Split Dataset from RM"
   ]
  },
  {
   "cell_type": "code",
   "execution_count": null,
   "id": "6d747a75-22d8-4e73-a70e-677c9f906908",
   "metadata": {},
   "outputs": [],
   "source": [
    "from sklearn.model_selection import train_test_split\n",
    "from sklearn.preprocessing import StandardScaler\n",
    "\n",
    "\n",
    "df = pd.read_csv(file_path, index_col=0) \n",
    "\n",
    "activity_column = 'Activity'\n",
    "df_sorted = df.sort_values(by=activity_column, ascending=False)\n",
    "\n",
    "# Define the number of class intervals (in this case, 8)\n",
    "num_class_intervals = 8\n",
    "\n",
    "# Split the dataset into class intervals\n",
    "df['Class Interval'] = pd.qcut(df_sorted[activity_column], q=num_class_intervals, labels=False)\n",
    "\n",
    "# Initialize empty sets for the training and test sets\n",
    "train_set = pd.DataFrame()\n",
    "test_set = pd.DataFrame()\n",
    "\n",
    "# Iterate over each class interval to construct the test set\n",
    "for interval in range(num_class_intervals):\n",
    "    # Randomly select one compound from each class interval\n",
    "    test_sample = df[df['Class Interval'] == interval].sample(n=1, random_state=42)\n",
    "    \n",
    "    # Append the selected samples to the test set\n",
    "    test_set = pd.concat([test_set, test_sample])\n",
    "    \n",
    "    # Remove the selected samples from the original DataFrame to form the training set\n",
    "    train_set = df.drop(test_sample.index)\n",
    "\n",
    "# Drop the 'Class Interval' column from the final sets\n",
    "train_set = train_set.drop('Class Interval', axis=1)\n",
    "test_set = test_set.drop('Class Interval', axis=1)\n",
    "\n",
    "# Display the training and test sets\n",
    "print(\"Training Set:\")\n",
    "print(train_set)\n",
    "\n",
    "print(\"\\nTest Set:\")\n",
    "print(test_set)\n"
   ]
  },
  {
   "cell_type": "code",
   "execution_count": null,
   "id": "de524a44-3024-4043-9400-d2ca3166ee56",
   "metadata": {},
   "outputs": [],
   "source": []
  }
 ],
 "metadata": {
  "kernelspec": {
   "display_name": "Python 3 (ipykernel)",
   "language": "python",
   "name": "python3"
  },
  "language_info": {
   "codemirror_mode": {
    "name": "ipython",
    "version": 3
   },
   "file_extension": ".py",
   "mimetype": "text/x-python",
   "name": "python",
   "nbconvert_exporter": "python",
   "pygments_lexer": "ipython3",
   "version": "3.9.12"
  }
 },
 "nbformat": 4,
 "nbformat_minor": 5
}
