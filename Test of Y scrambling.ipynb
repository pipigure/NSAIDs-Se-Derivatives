{
 "cells": [
  {
   "cell_type": "code",
   "execution_count": 20,
   "id": "f1071854-623b-4535-a0fc-39799a971c88",
   "metadata": {},
   "outputs": [
    {
     "name": "stdout",
     "output_type": "stream",
     "text": [
      "Y-scrambling Experiment Results:\n",
      "R^2 Results:  ['0.3211', '0.3316', '0.3535', '0.3310', '0.3432', '0.3290', '0.3257', '0.3550', '0.3288', '0.3320']\n",
      "R²cv Results:  ['-0.1002', '-0.0726', '-0.0707', '-0.0297', '-0.0355', '-0.0585', '-0.0262', '-0.0357', '-0.0244', '-0.0157']\n",
      "Average R^2:  0.3515\n",
      "Average R²cv:  -0.0282\n"
     ]
    }
   ],
   "source": [
    "from sklearn.model_selection import GridSearchCV, cross_val_score\n",
    "\n",
    "r2_results = []\n",
    "r2_cv_results = []\n",
    "\n",
    "for _ in range(10):\n",
    "    y_scrambled = shuffle(train_Y, random_state=42)\n",
    "    best_model.fit(train_X, y_scrambled)\n",
    "    y_scrambled_pred = best_model.predict(train_X)\n",
    "    \n",
    "    rmse = np.sqrt(mean_squared_error(y_scrambled, y_scrambled_pred))\n",
    "    r2 = r2_score(y_scrambled, y_scrambled_pred)\n",
    "    \n",
    "    r2_cv_scores = cross_val_score(best_model, train_X, y_scrambled, cv=3, scoring='r2')\n",
    "    r2_cv_avg = np.mean(r2_cv_scores)\n",
    "    \n",
    "    rmse_results.append(rmse)\n",
    "    r2_results.append(r2)\n",
    "    r2_cv_results.append(r2_cv_avg)\n",
    "\n",
    "\n",
    "print(\"Y-scrambling Experiment Results:\")\n",
    "print(\"R^2 Results: \", [f'{r2:.4f}' for r2 in r2_results])\n",
    "print(\"R²cv Results: \", [f'{r2_cv:.4f}' for r2_cv in r2_cv_results])\n",
    "print(\"Average R^2: \", f'{r2_avg:.4f}')\n",
    "print(\"Average R²cv: \", f'{r2_cv_avg_overall:.4f}')"
   ]
  }
 ],
 "metadata": {
  "kernelspec": {
   "display_name": "Python 3 (ipykernel)",
   "language": "python",
   "name": "python3"
  },
  "language_info": {
   "codemirror_mode": {
    "name": "ipython",
    "version": 3
   },
   "file_extension": ".py",
   "mimetype": "text/x-python",
   "name": "python",
   "nbconvert_exporter": "python",
   "pygments_lexer": "ipython3",
   "version": "3.9.12"
  }
 },
 "nbformat": 4,
 "nbformat_minor": 5
}
